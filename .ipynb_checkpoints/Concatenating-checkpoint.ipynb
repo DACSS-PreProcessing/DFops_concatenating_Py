{
 "cells": [
  {
   "cell_type": "markdown",
   "id": "d317c804",
   "metadata": {},
   "source": [
    "<center><img src=\"https://github.com/DACSS-PreProcessing/Week_1_main/blob/main/pics/LogoSimple.png?raw=true\" width=\"700\"></center>\n",
    "\n",
    "\n",
    "# Concatenating Data Frames in Python\n",
    "\n",
    "Concatenating is an operation at the data frame level. It is an easy operation when all the data frames have the **same** column names, and in the same position  (vertical concatenation).\n",
    "\n",
    "For this example, there is a webpage in **fragilestatesindex.org** where we can find several links to excel files. Let me get all the links:"
   ]
  },
  {
   "cell_type": "code",
   "execution_count": null,
   "id": "b6371dce-a2c2-49bd-a48b-1fac1547c3c8",
   "metadata": {},
   "outputs": [],
   "source": [
    "import requests\n",
    "from bs4 import BeautifulSoup\n",
    " \n",
    "headers = {'User-Agent': 'Mozilla/5.0 (Windows NT 10.0; Win64; x64) AppleWebKit/537.36 (KHTML, like Gecko) Chrome/111.0.0.0 Safari/537.36'}\n",
    "url = \"https://fragilestatesindex.org/excel/\"\n",
    "data = requests.get(url,headers=headers).text\n",
    "soup = BeautifulSoup(data, 'html.parser')\n",
    "\n",
    "allLinks=[]\n",
    "for table in soup.find_all('table'):\n",
    "    for a in table.find_all('a'):\n",
    "        allLinks.append(a['href'].strip())\n",
    "allLinks=set(allLinks)"
   ]
  },
  {
   "cell_type": "code",
   "execution_count": null,
   "id": "6e3869fe-21f6-42cc-a3ae-e21bc13740fe",
   "metadata": {},
   "outputs": [],
   "source": [
    "allLinks"
   ]
  },
  {
   "cell_type": "markdown",
   "id": "9b459bb1",
   "metadata": {},
   "source": [
    "Now, I will create a list of data frames:"
   ]
  },
  {
   "cell_type": "code",
   "execution_count": null,
   "id": "f05638f9",
   "metadata": {},
   "outputs": [],
   "source": [
    "import pandas as pd\n",
    "\n",
    "dfs=[] # a list\n",
    "for link in allLinks:\n",
    "    dfs.append(pd.read_excel(link,storage_options=headers))"
   ]
  },
  {
   "cell_type": "markdown",
   "id": "5e5fa614-7804-4c63-b822-24028d0727e3",
   "metadata": {},
   "source": [
    "We are not merging, but we should avoid duplicates after concatenating.\n",
    "\n",
    "What columns do we have?"
   ]
  },
  {
   "cell_type": "code",
   "execution_count": null,
   "id": "351cfa1e-a212-4b5e-9bb3-5ff908d47317",
   "metadata": {},
   "outputs": [],
   "source": [
    "# saving column names\n",
    "allColumnNames=[]\n",
    "for df in dfs:\n",
    "    allColumnNames.append(set(df.columns))# list of sets!"
   ]
  },
  {
   "cell_type": "code",
   "execution_count": null,
   "id": "246a7312-b45b-4a42-9855-18dc34065b47",
   "metadata": {},
   "outputs": [],
   "source": [
    "# details of common columns\n",
    "commonColumns=set.intersection(*allColumnNames) # expanding list of sets (*)\n",
    "commonColumns"
   ]
  },
  {
   "cell_type": "code",
   "execution_count": null,
   "id": "aa7c73bd-ad01-451e-8c82-f719fd631efe",
   "metadata": {},
   "outputs": [],
   "source": [
    "# all minus the common\n",
    "set.union(*allColumnNames)-commonColumns"
   ]
  },
  {
   "cell_type": "markdown",
   "id": "58eae697-a7ae-443d-b5d0-7c17b2186127",
   "metadata": {},
   "source": [
    "All countries have the Country column. Let's see how they look:"
   ]
  },
  {
   "cell_type": "code",
   "execution_count": null,
   "id": "29fc346a-d804-4e9f-a498-ab63ce7ca43f",
   "metadata": {},
   "outputs": [],
   "source": [
    "allKeys=[] # list for contry names\n",
    "for df in dfs:\n",
    "    allKeys.append(set(df.Country))# list of sets!\n",
    "#\n",
    "commonKeys=set.intersection(*allKeys) \n",
    "\n",
    "# any weird pattern ?\n",
    "set.union(*allKeys)-commonKeys"
   ]
  },
  {
   "cell_type": "markdown",
   "id": "ee111b72-d99b-48c5-a1f8-db30697ca0ee",
   "metadata": {},
   "source": [
    "We see that there are two simple problems affecting duplicates: the trailing spaces, and the accent symbol. Let's deal with that:"
   ]
  },
  {
   "cell_type": "code",
   "execution_count": null,
   "id": "3d85c836-fd72-4f31-b838-ae79e7d2ec74",
   "metadata": {},
   "outputs": [],
   "source": [
    "from unidecode import unidecode\n",
    "\n",
    "for i in range(len(dfs)):\n",
    "    dfs[i]['Country']=dfs[i].Country.str.strip().apply(unidecode)"
   ]
  },
  {
   "cell_type": "markdown",
   "id": "dfcb39a0-6bed-46cf-9294-64a41cf5cdbb",
   "metadata": {},
   "source": [
    "Let's see what we have:"
   ]
  },
  {
   "cell_type": "code",
   "execution_count": null,
   "id": "ebe1da7b-5c75-43b8-bdcd-e867decf5343",
   "metadata": {},
   "outputs": [],
   "source": [
    "allKeys=[]\n",
    "for df in dfs:\n",
    "    allKeys.append(set(df.Country))# list of sets!\n",
    "\n",
    "commonKeys=set.intersection(*allKeys)\n",
    "set.union(*allKeys)-commonKeys"
   ]
  },
  {
   "cell_type": "markdown",
   "id": "75e96e7f-c008-4f13-8ba4-ba9192b69e0e",
   "metadata": {},
   "source": [
    "The problem is more complicated now. There are countries that have been written in a different way. If we continue, we will create innecessary missing values if reshaped. Let's deal with this."
   ]
  },
  {
   "cell_type": "code",
   "execution_count": null,
   "id": "6c8143bb-53ab-4a51-98d9-836bfd4b768e",
   "metadata": {},
   "outputs": [],
   "source": [
    "missfits=list(set.union(*allKeys)-commonKeys)\n",
    "\n",
    "from thefuzz import process as fz\n",
    "\n",
    "[(c,fz.extract(c,missfits,limit=2)) for c in sorted(missfits)]"
   ]
  },
  {
   "cell_type": "markdown",
   "id": "d3cc4543-dbd9-4185-b690-0e996cff2cea",
   "metadata": {},
   "source": [
    "Only the second best is useful. Then:"
   ]
  },
  {
   "cell_type": "code",
   "execution_count": null,
   "id": "cd965522-60f4-4473-aae7-a8c3827316d4",
   "metadata": {},
   "outputs": [],
   "source": [
    "[(c,fz.extract(c,missfits,limit=2)[1]) for c in sorted(missfits) if (c,fz.extract(c,missfits,limit=2)[1])[1][1]>=75]"
   ]
  },
  {
   "cell_type": "markdown",
   "id": "beda67cc-2192-4b70-82ca-4c45c174276f",
   "metadata": {},
   "source": [
    "We should prepare a dictionary of changes, some will be input manually:"
   ]
  },
  {
   "cell_type": "code",
   "execution_count": null,
   "id": "64e0e092-7bb3-446a-a445-dbd860b6741a",
   "metadata": {},
   "outputs": [],
   "source": [
    "theFits=[(c,fz.extract(c,missfits,limit=2)[1]) for c in sorted(missfits) if (c,fz.extract(c,missfits,limit=2)[1])[1][1]>=75]\n",
    "allChanges={fit[0]:fit[1][0] for fit in theFits[0:-1:2]}\n",
    "\n",
    "allChanges.update({'Kyrgyzstan':'Kyrgyz Republic'})\n",
    "allChanges.update({'Swaziland':'Eswatini'})\n",
    "allChanges"
   ]
  },
  {
   "cell_type": "markdown",
   "id": "a1e039d2-e22a-4014-a667-e58954b46c0b",
   "metadata": {},
   "source": [
    "Now, we make the changes in every data frame:"
   ]
  },
  {
   "cell_type": "code",
   "execution_count": null,
   "id": "f33bfb52-b894-4ccb-a003-4c37ce53834c",
   "metadata": {},
   "outputs": [],
   "source": [
    "for i in range(len(dfs)):\n",
    "    dfs[i].replace({'Country':allChanges}, inplace=True)"
   ]
  },
  {
   "cell_type": "markdown",
   "id": "44785886-e354-4b72-8af7-9d4d22fe2e49",
   "metadata": {},
   "source": [
    "Now, you can use the **dfs** list to concatenate:"
   ]
  },
  {
   "cell_type": "code",
   "execution_count": null,
   "id": "5ea7b1bb-abcf-43d0-b282-be6aaff93fae",
   "metadata": {},
   "outputs": [],
   "source": [
    "allDFs=pd.concat(objs=dfs, # DFs as a list\n",
    "                 axis=0, # one DF on top of the other\n",
    "                 ignore_index=True, #very important\n",
    "                 copy=False)\n",
    "\n",
    "allDFs.columns"
   ]
  },
  {
   "cell_type": "markdown",
   "id": "81faedb9-3b4a-4ad9-b4c8-f0e540e2990a",
   "metadata": {},
   "source": [
    "Some basic cleaning in column names:"
   ]
  },
  {
   "cell_type": "code",
   "execution_count": null,
   "id": "42bd345e-9da2-4b95-97c4-e779491a820b",
   "metadata": {},
   "outputs": [],
   "source": [
    "allDFs.columns=allDFs.columns.str.replace(r':\\s|\\s','_',regex=True)\n",
    "\n",
    "allDFs"
   ]
  },
  {
   "cell_type": "code",
   "execution_count": null,
   "id": "e74282d5-70d9-47a0-8b4b-a02e28390398",
   "metadata": {},
   "outputs": [],
   "source": [
    "allDFs.info()"
   ]
  },
  {
   "cell_type": "markdown",
   "id": "af22b7e8",
   "metadata": {},
   "source": [
    "We should drop the last column:"
   ]
  },
  {
   "cell_type": "code",
   "execution_count": null,
   "id": "74c0037c",
   "metadata": {},
   "outputs": [],
   "source": [
    "allDFs.drop(columns=['Change_from_Previous_Year'], inplace=True)"
   ]
  },
  {
   "cell_type": "markdown",
   "id": "f422a42b-2326-46a3-b6a3-50e6d5df9105",
   "metadata": {},
   "source": [
    "Pay attention to years:"
   ]
  },
  {
   "cell_type": "code",
   "execution_count": null,
   "id": "65317a84-e920-4331-9cb9-f826ba6b904d",
   "metadata": {},
   "outputs": [],
   "source": [
    "allDFs.Year.value_counts()"
   ]
  },
  {
   "cell_type": "markdown",
   "id": "659f7c95-380a-4622-9421-483958f24c64",
   "metadata": {},
   "source": [
    "These years need formatting:"
   ]
  },
  {
   "cell_type": "code",
   "execution_count": null,
   "id": "eff35b8c-0516-488b-bc76-c876c876ede8",
   "metadata": {},
   "outputs": [],
   "source": [
    "allDFs['Year']=[y if type(y)==int else y.year for y in allDFs.Year  ]"
   ]
  },
  {
   "cell_type": "code",
   "execution_count": null,
   "id": "a64b9c5b-f968-4b20-920b-258e560477c4",
   "metadata": {},
   "outputs": [],
   "source": [
    "allDFs.Year.value_counts()"
   ]
  },
  {
   "cell_type": "markdown",
   "id": "88690398-def5-4534-85cc-18ecd3fd646d",
   "metadata": {},
   "source": [
    "Let's save the DF:"
   ]
  },
  {
   "cell_type": "code",
   "execution_count": null,
   "id": "362e6899-5c4f-4490-91bd-29041384e4a4",
   "metadata": {},
   "outputs": [],
   "source": [
    "allDFs.to_csv('allDFs.csv',index=False)"
   ]
  },
  {
   "cell_type": "code",
   "execution_count": null,
   "id": "3c4153cc-b2fd-4f90-9f8a-5c9e48bd046a",
   "metadata": {},
   "outputs": [],
   "source": []
  }
 ],
 "metadata": {
  "kernelspec": {
   "display_name": "Python 3 (ipykernel)",
   "language": "python",
   "name": "python3"
  },
  "language_info": {
   "codemirror_mode": {
    "name": "ipython",
    "version": 3
   },
   "file_extension": ".py",
   "mimetype": "text/x-python",
   "name": "python",
   "nbconvert_exporter": "python",
   "pygments_lexer": "ipython3",
   "version": "3.11.9"
  }
 },
 "nbformat": 4,
 "nbformat_minor": 5
}
