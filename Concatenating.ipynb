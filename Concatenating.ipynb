{
 "cells": [
  {
   "cell_type": "markdown",
   "id": "d317c804",
   "metadata": {},
   "source": [
    "<center><img src=\"https://github.com/DACSS-PreProcessing/Week_1_main/blob/main/pics/LogoSimple.png?raw=true\" width=\"700\"></center>\n",
    "\n",
    "\n",
    "# Concatenating Data Frames in Python\n",
    "\n",
    "Concatenating is an operation at the data frame level. It is an easy operation when all the data frames have the **same** column names, and in the same position  (vertical concatenation).\n",
    "\n",
    "For this example, there is a webpage in **fragilestatesindex.org** where we can find several links to excel files. Let me get all the links:"
   ]
  },
  {
   "cell_type": "code",
   "execution_count": null,
   "id": "b6371dce-a2c2-49bd-a48b-1fac1547c3c8",
   "metadata": {},
   "outputs": [],
   "source": [
    "import requests\n",
    "from bs4 import BeautifulSoup\n",
    " \n",
    "headers = {'User-Agent': 'Mozilla/5.0 (Windows NT 10.0; Win64; x64) AppleWebKit/537.36 (KHTML, like Gecko) Chrome/111.0.0.0 Safari/537.36'}\n",
    "url = \"https://fragilestatesindex.org/excel/\"\n",
    "data = requests.get(url,headers=headers).text\n",
    "soup = BeautifulSoup(data, 'html.parser')\n",
    "\n",
    "allLinks=[]\n",
    "for table in soup.find_all('table'):\n",
    "    for a in table.find_all('a'):\n",
    "        allLinks.append(a['href'].strip())\n",
    "allLinks=set(allLinks)"
   ]
  },
  {
   "cell_type": "code",
   "execution_count": null,
   "id": "6e3869fe-21f6-42cc-a3ae-e21bc13740fe",
   "metadata": {},
   "outputs": [],
   "source": [
    "allLinks"
   ]
  },
  {
   "cell_type": "markdown",
   "id": "9b459bb1",
   "metadata": {},
   "source": [
    "Now, I will create a list of data frames:"
   ]
  },
  {
   "cell_type": "code",
   "execution_count": null,
   "id": "f05638f9",
   "metadata": {},
   "outputs": [],
   "source": [
    "import pandas as pd\n",
    "\n",
    "dfs=[] # a list\n",
    "for link in allLinks:\n",
    "    dfs.append(pd.read_excel(link,storage_options=headers))"
   ]
  },
  {
   "cell_type": "markdown",
   "id": "44785886-e354-4b72-8af7-9d4d22fe2e49",
   "metadata": {},
   "source": [
    "You can use the list to concatenate:"
   ]
  },
  {
   "cell_type": "code",
   "execution_count": null,
   "id": "5ea7b1bb-abcf-43d0-b282-be6aaff93fae",
   "metadata": {},
   "outputs": [],
   "source": [
    "allDFs=pd.concat(objs=dfs, # DFs as a list\n",
    "                 axis=0, # one DF on top of the other\n",
    "                 ignore_index=True, #very important\n",
    "                 copy=False)\n",
    "\n",
    "allDFs.columns"
   ]
  },
  {
   "cell_type": "markdown",
   "id": "81faedb9-3b4a-4ad9-b4c8-f0e540e2990a",
   "metadata": {},
   "source": [
    "Some basic cleaning in column names:"
   ]
  },
  {
   "cell_type": "code",
   "execution_count": null,
   "id": "42bd345e-9da2-4b95-97c4-e779491a820b",
   "metadata": {},
   "outputs": [],
   "source": [
    "allDFs.columns=allDFs.columns.str.replace(r':\\s|\\s','_',regex=True)\n",
    "\n",
    "allDFs"
   ]
  },
  {
   "cell_type": "markdown",
   "id": "f422a42b-2326-46a3-b6a3-50e6d5df9105",
   "metadata": {},
   "source": [
    "Pay attention to years:"
   ]
  },
  {
   "cell_type": "code",
   "execution_count": null,
   "id": "65317a84-e920-4331-9cb9-f826ba6b904d",
   "metadata": {},
   "outputs": [],
   "source": [
    "allDFs.Year.value_counts()"
   ]
  },
  {
   "cell_type": "markdown",
   "id": "26935b3e-1f42-43de-84c7-75b919af7283",
   "metadata": {},
   "source": [
    "Some formatting:"
   ]
  },
  {
   "cell_type": "code",
   "execution_count": null,
   "id": "84cd2e87-341e-45b7-acad-cba6c6f54cce",
   "metadata": {},
   "outputs": [],
   "source": [
    "pd.to_datetime(allDFs.Year).dt.year.value_counts()"
   ]
  },
  {
   "cell_type": "markdown",
   "id": "7a36cc5c-98db-4c25-bd19-8667dc92f75f",
   "metadata": {},
   "source": [
    "Then, "
   ]
  },
  {
   "cell_type": "code",
   "execution_count": null,
   "id": "278678d6-c9d4-490a-bcf0-a82894a0d810",
   "metadata": {},
   "outputs": [],
   "source": [
    "allDFs.Year=pd.to_datetime(allDFs.Year).dt.year\n",
    "\n",
    "allDFs"
   ]
  },
  {
   "cell_type": "markdown",
   "id": "4647bd00",
   "metadata": {},
   "source": [
    "Check missingness:"
   ]
  },
  {
   "cell_type": "code",
   "execution_count": null,
   "id": "8cbaa5f1",
   "metadata": {},
   "outputs": [],
   "source": [
    "allDFs.info()"
   ]
  },
  {
   "cell_type": "markdown",
   "id": "af22b7e8",
   "metadata": {},
   "source": [
    "We should drop the last column:"
   ]
  },
  {
   "cell_type": "code",
   "execution_count": null,
   "id": "74c0037c",
   "metadata": {},
   "outputs": [],
   "source": [
    "allDFs.drop(columns=['Change_from_Previous_Year'], inplace=True)"
   ]
  },
  {
   "cell_type": "markdown",
   "id": "88690398-def5-4534-85cc-18ecd3fd646d",
   "metadata": {},
   "source": [
    "Let's save the DF:"
   ]
  },
  {
   "cell_type": "code",
   "execution_count": null,
   "id": "362e6899-5c4f-4490-91bd-29041384e4a4",
   "metadata": {},
   "outputs": [],
   "source": [
    "allDFs.to_csv('allDFs.csv',index=False)"
   ]
  }
 ],
 "metadata": {
  "kernelspec": {
   "display_name": "Python 3 (ipykernel)",
   "language": "python",
   "name": "python3"
  },
  "language_info": {
   "codemirror_mode": {
    "name": "ipython",
    "version": 3
   },
   "file_extension": ".py",
   "mimetype": "text/x-python",
   "name": "python",
   "nbconvert_exporter": "python",
   "pygments_lexer": "ipython3",
   "version": "3.11.9"
  }
 },
 "nbformat": 4,
 "nbformat_minor": 5
}
