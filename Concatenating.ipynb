{
 "cells": [
  {
   "cell_type": "markdown",
   "id": "d317c804",
   "metadata": {},
   "source": [
    "<center><img src=\"https://github.com/DACSS-PreProcessing/Week_1_main/blob/main/pics/LogoSimple.png?raw=true\" width=\"700\"></center>\n",
    "\n",
    "\n",
    "# Concatenating Data Frames in Python\n",
    "\n",
    "Concatenating is an operation at the data frame level. It is an easy operation when all the data frames have the **same** column names, and in the same position  (vertical concatenation).\n",
    "\n",
    "For this example, there is a webpage in **fragilestatesindex.org** where we can find several links to excel files. Let me get all the links:"
   ]
  },
  {
   "cell_type": "code",
   "execution_count": 1,
   "id": "b6371dce-a2c2-49bd-a48b-1fac1547c3c8",
   "metadata": {},
   "outputs": [],
   "source": [
    "import requests\n",
    "from bs4 import BeautifulSoup\n",
    " \n",
    "headers = {'User-Agent': 'Mozilla/5.0 (Windows NT 10.0; Win64; x64) AppleWebKit/537.36 (KHTML, like Gecko) Chrome/111.0.0.0 Safari/537.36'}\n",
    "url = \"https://fragilestatesindex.org/excel/\"\n",
    "data = requests.get(url,headers=headers).text\n",
    "soup = BeautifulSoup(data, 'html.parser')\n",
    "\n",
    "allLinks=[]\n",
    "for table in soup.find_all('table'):\n",
    "    for a in table.find_all('a'):\n",
    "        allLinks.append(a['href'].strip())\n",
    "allLinks=set(allLinks)"
   ]
  },
  {
   "cell_type": "code",
   "execution_count": 2,
   "id": "6e3869fe-21f6-42cc-a3ae-e21bc13740fe",
   "metadata": {},
   "outputs": [
    {
     "data": {
      "text/plain": [
       "{'https://fragilestatesindex.org/wp-content/uploads/2018/04/fsi-2018.xlsx',\n",
       " 'https://fragilestatesindex.org/wp-content/uploads/2019/04/fsi-2019.xlsx',\n",
       " 'https://fragilestatesindex.org/wp-content/uploads/2020/05/fsi-2020.xlsx',\n",
       " 'https://fragilestatesindex.org/wp-content/uploads/2021/05/fsi-2021.xlsx',\n",
       " 'https://fragilestatesindex.org/wp-content/uploads/2022/07/fsi-2022-download.xlsx',\n",
       " 'https://fragilestatesindex.org/wp-content/uploads/2023/06/FSI-2023-DOWNLOAD.xlsx',\n",
       " 'https://fragilestatesindex.org/wp-content/uploads/data/fsi-2006.xlsx',\n",
       " 'https://fragilestatesindex.org/wp-content/uploads/data/fsi-2007.xlsx',\n",
       " 'https://fragilestatesindex.org/wp-content/uploads/data/fsi-2008.xlsx',\n",
       " 'https://fragilestatesindex.org/wp-content/uploads/data/fsi-2009.xlsx',\n",
       " 'https://fragilestatesindex.org/wp-content/uploads/data/fsi-2010.xlsx',\n",
       " 'https://fragilestatesindex.org/wp-content/uploads/data/fsi-2011.xlsx',\n",
       " 'https://fragilestatesindex.org/wp-content/uploads/data/fsi-2012.xlsx',\n",
       " 'https://fragilestatesindex.org/wp-content/uploads/data/fsi-2013.xlsx',\n",
       " 'https://fragilestatesindex.org/wp-content/uploads/data/fsi-2014.xlsx',\n",
       " 'https://fragilestatesindex.org/wp-content/uploads/data/fsi-2015.xlsx',\n",
       " 'https://fragilestatesindex.org/wp-content/uploads/data/fsi-2016.xlsx',\n",
       " 'https://fragilestatesindex.org/wp-content/uploads/data/fsi-2017.xlsx'}"
      ]
     },
     "execution_count": 2,
     "metadata": {},
     "output_type": "execute_result"
    }
   ],
   "source": [
    "allLinks"
   ]
  },
  {
   "cell_type": "markdown",
   "id": "9b459bb1",
   "metadata": {},
   "source": [
    "Now, I will create a list of data frames:"
   ]
  },
  {
   "cell_type": "code",
   "execution_count": 109,
   "id": "f05638f9",
   "metadata": {},
   "outputs": [],
   "source": [
    "import pandas as pd\n",
    "\n",
    "dfs=[] # a list\n",
    "for link in allLinks:\n",
    "    dfs.append(pd.read_excel(link,storage_options=headers))"
   ]
  },
  {
   "cell_type": "markdown",
   "id": "5e5fa614-7804-4c63-b822-24028d0727e3",
   "metadata": {},
   "source": [
    "We are not merging, but we should avoid duplicates after concatenating.\n",
    "\n",
    "What columns do we have?"
   ]
  },
  {
   "cell_type": "code",
   "execution_count": 110,
   "id": "351cfa1e-a212-4b5e-9bb3-5ff908d47317",
   "metadata": {},
   "outputs": [],
   "source": [
    "# saving column names\n",
    "allColumnNames=[]\n",
    "for df in dfs:\n",
    "    allColumnNames.append(set(df.columns))# list of sets!"
   ]
  },
  {
   "cell_type": "code",
   "execution_count": 111,
   "id": "246a7312-b45b-4a42-9855-18dc34065b47",
   "metadata": {},
   "outputs": [
    {
     "data": {
      "text/plain": [
       "{'C1: Security Apparatus',\n",
       " 'C2: Factionalized Elites',\n",
       " 'C3: Group Grievance',\n",
       " 'Country',\n",
       " 'E1: Economy',\n",
       " 'E2: Economic Inequality',\n",
       " 'E3: Human Flight and Brain Drain',\n",
       " 'P1: State Legitimacy',\n",
       " 'P2: Public Services',\n",
       " 'P3: Human Rights',\n",
       " 'Rank',\n",
       " 'S1: Demographic Pressures',\n",
       " 'S2: Refugees and IDPs',\n",
       " 'Total',\n",
       " 'X1: External Intervention',\n",
       " 'Year'}"
      ]
     },
     "execution_count": 111,
     "metadata": {},
     "output_type": "execute_result"
    }
   ],
   "source": [
    "# details of common columns\n",
    "commonColumns=set.intersection(*allColumnNames) # expanding list of sets (*)\n",
    "commonColumns"
   ]
  },
  {
   "cell_type": "code",
   "execution_count": 112,
   "id": "aa7c73bd-ad01-451e-8c82-f719fd631efe",
   "metadata": {},
   "outputs": [
    {
     "data": {
      "text/plain": [
       "{'Change from Previous Year'}"
      ]
     },
     "execution_count": 112,
     "metadata": {},
     "output_type": "execute_result"
    }
   ],
   "source": [
    "# all minus the common\n",
    "set.union(*allColumnNames)-commonColumns"
   ]
  },
  {
   "cell_type": "markdown",
   "id": "58eae697-a7ae-443d-b5d0-7c17b2186127",
   "metadata": {},
   "source": [
    "All countries have the Country column. Let's see how they look:"
   ]
  },
  {
   "cell_type": "code",
   "execution_count": 113,
   "id": "29fc346a-d804-4e9f-a498-ab63ce7ca43f",
   "metadata": {},
   "outputs": [
    {
     "data": {
      "text/plain": [
       "{'Antigua and Barbuda',\n",
       " 'Armenia',\n",
       " 'Armenia ',\n",
       " 'Austria',\n",
       " 'Austria ',\n",
       " 'Bahamas',\n",
       " 'Bahrain',\n",
       " 'Barbados',\n",
       " 'Belize',\n",
       " 'Brunei Darussalam',\n",
       " 'Cabo Verde',\n",
       " 'Cambodia',\n",
       " 'Cambodia ',\n",
       " 'Canada',\n",
       " 'Canada ',\n",
       " 'Cape Verde',\n",
       " 'Chile',\n",
       " 'Chile ',\n",
       " 'Comoros',\n",
       " 'Congo Republic',\n",
       " \"Cote d'Ivoire\",\n",
       " 'Croatia',\n",
       " 'Croatia ',\n",
       " 'Cyprus',\n",
       " 'Cyprus ',\n",
       " 'Czech Republic',\n",
       " 'Czechia',\n",
       " \"Côte d'Ivoire\",\n",
       " 'Djibouti',\n",
       " 'Estonia',\n",
       " 'Estonia ',\n",
       " 'Eswatini',\n",
       " 'Fiji',\n",
       " 'Finland',\n",
       " 'Finland ',\n",
       " 'Georgia',\n",
       " 'Georgia ',\n",
       " 'Germany',\n",
       " 'Germany ',\n",
       " 'Ghana',\n",
       " 'Ghana ',\n",
       " 'Greece',\n",
       " 'Greece ',\n",
       " 'Grenada',\n",
       " 'Guyana',\n",
       " 'Iceland',\n",
       " 'Ireland',\n",
       " 'Ireland ',\n",
       " 'Israel',\n",
       " 'Israel and West Bank',\n",
       " 'Italy',\n",
       " 'Italy ',\n",
       " 'Jamaica',\n",
       " 'Jamaica ',\n",
       " 'Japan',\n",
       " 'Japan ',\n",
       " 'Jordan',\n",
       " 'Jordan ',\n",
       " 'Kuwait',\n",
       " 'Kuwait ',\n",
       " 'Kyrgyz Republic',\n",
       " 'Kyrgyzstan',\n",
       " 'Lesotho',\n",
       " 'Luxembourg',\n",
       " 'Macedonia',\n",
       " 'Macedonia ',\n",
       " 'Madagascar',\n",
       " 'Maldives',\n",
       " 'Mali',\n",
       " 'Mali ',\n",
       " 'Malta',\n",
       " 'Mauritius',\n",
       " 'Mauritius ',\n",
       " 'Micronesia',\n",
       " 'Mongolia',\n",
       " 'Mongolia ',\n",
       " 'Montenegro',\n",
       " 'Namibia',\n",
       " 'Namibia ',\n",
       " 'Netherlands',\n",
       " 'Netherlands ',\n",
       " 'New Zealand',\n",
       " 'New Zealand ',\n",
       " 'Nicaragua',\n",
       " 'Nicaragua ',\n",
       " 'Niger',\n",
       " 'Niger ',\n",
       " 'North Macedonia',\n",
       " 'Norway',\n",
       " 'Norway ',\n",
       " 'Oman',\n",
       " 'Oman ',\n",
       " 'Palestine',\n",
       " 'Panama',\n",
       " 'Panama ',\n",
       " 'Papua New Guinea',\n",
       " 'Papua New Guinea ',\n",
       " 'Portugal',\n",
       " 'Portugal ',\n",
       " 'Qatar',\n",
       " 'Romania',\n",
       " 'Romania ',\n",
       " 'Samoa',\n",
       " 'Sao Tome and Principe',\n",
       " 'Senegal',\n",
       " 'Senegal ',\n",
       " 'Serbia',\n",
       " 'Serbia  ',\n",
       " 'Seychelles',\n",
       " 'Singapore',\n",
       " 'Singapore ',\n",
       " 'Slovak Republic',\n",
       " 'Slovakia',\n",
       " 'Slovenia',\n",
       " 'Slovenia ',\n",
       " 'Solomon Islands',\n",
       " 'South Africa',\n",
       " 'South Africa ',\n",
       " 'South Sudan',\n",
       " 'Spain',\n",
       " 'Spain ',\n",
       " 'Sri Lanka',\n",
       " 'Sri Lanka ',\n",
       " 'Suriname',\n",
       " 'Swaziland',\n",
       " 'Sweden',\n",
       " 'Sweden ',\n",
       " 'Switzerland',\n",
       " 'Switzerland ',\n",
       " 'Timor-Leste',\n",
       " 'Trinidad and Tobago',\n",
       " 'United Arab Emirates',\n",
       " 'Uruguay',\n",
       " 'Uruguay '}"
      ]
     },
     "execution_count": 113,
     "metadata": {},
     "output_type": "execute_result"
    }
   ],
   "source": [
    "allKeys=[] # list for contry names\n",
    "for df in dfs:\n",
    "    allKeys.append(set(df.Country))# list of sets!\n",
    "#\n",
    "commonKeys=set.intersection(*allKeys) \n",
    "\n",
    "# any weird pattern ?\n",
    "set.union(*allKeys)-commonKeys"
   ]
  },
  {
   "cell_type": "markdown",
   "id": "ee111b72-d99b-48c5-a1f8-db30697ca0ee",
   "metadata": {},
   "source": [
    "We see that there are two simple problems affecting duplicates: the trailing spaces, and the accent symbol. Let's deal with that:"
   ]
  },
  {
   "cell_type": "code",
   "execution_count": 114,
   "id": "3d85c836-fd72-4f31-b838-ae79e7d2ec74",
   "metadata": {},
   "outputs": [],
   "source": [
    "from unidecode import unidecode\n",
    "\n",
    "for i in range(len(dfs)):\n",
    "    dfs[i]['Country']=dfs[i].Country.str.strip().apply(unidecode)"
   ]
  },
  {
   "cell_type": "markdown",
   "id": "dfcb39a0-6bed-46cf-9294-64a41cf5cdbb",
   "metadata": {},
   "source": [
    "Let's see what we have:"
   ]
  },
  {
   "cell_type": "code",
   "execution_count": 115,
   "id": "ebe1da7b-5c75-43b8-bdcd-e867decf5343",
   "metadata": {},
   "outputs": [
    {
     "data": {
      "text/plain": [
       "{'Antigua and Barbuda',\n",
       " 'Bahamas',\n",
       " 'Bahrain',\n",
       " 'Barbados',\n",
       " 'Belize',\n",
       " 'Brunei Darussalam',\n",
       " 'Cabo Verde',\n",
       " 'Cape Verde',\n",
       " 'Comoros',\n",
       " 'Congo Republic',\n",
       " 'Czech Republic',\n",
       " 'Czechia',\n",
       " 'Djibouti',\n",
       " 'Eswatini',\n",
       " 'Fiji',\n",
       " 'Grenada',\n",
       " 'Guyana',\n",
       " 'Iceland',\n",
       " 'Israel',\n",
       " 'Israel and West Bank',\n",
       " 'Kyrgyz Republic',\n",
       " 'Kyrgyzstan',\n",
       " 'Lesotho',\n",
       " 'Luxembourg',\n",
       " 'Macedonia',\n",
       " 'Madagascar',\n",
       " 'Maldives',\n",
       " 'Malta',\n",
       " 'Micronesia',\n",
       " 'Montenegro',\n",
       " 'North Macedonia',\n",
       " 'Palestine',\n",
       " 'Qatar',\n",
       " 'Samoa',\n",
       " 'Sao Tome and Principe',\n",
       " 'Seychelles',\n",
       " 'Slovak Republic',\n",
       " 'Slovakia',\n",
       " 'Solomon Islands',\n",
       " 'South Sudan',\n",
       " 'Suriname',\n",
       " 'Swaziland',\n",
       " 'Timor-Leste',\n",
       " 'Trinidad and Tobago',\n",
       " 'United Arab Emirates'}"
      ]
     },
     "execution_count": 115,
     "metadata": {},
     "output_type": "execute_result"
    }
   ],
   "source": [
    "allKeys=[]\n",
    "for df in dfs:\n",
    "    allKeys.append(set(df.Country))# list of sets!\n",
    "\n",
    "commonKeys=set.intersection(*allKeys)\n",
    "set.union(*allKeys)-commonKeys"
   ]
  },
  {
   "cell_type": "markdown",
   "id": "75e96e7f-c008-4f13-8ba4-ba9192b69e0e",
   "metadata": {},
   "source": [
    "The problem is more complicated now. There are countries that have been written in a different way. If we continue, we will create innecessary missing values if reshaped. Let's deal with this."
   ]
  },
  {
   "cell_type": "code",
   "execution_count": 128,
   "id": "6c8143bb-53ab-4a51-98d9-836bfd4b768e",
   "metadata": {},
   "outputs": [
    {
     "data": {
      "text/plain": [
       "[('Antigua and Barbuda', [('Antigua and Barbuda', 100), ('Barbados', 60)]),\n",
       " ('Bahamas', [('Bahamas', 100), ('Bahrain', 57)]),\n",
       " ('Bahrain', [('Bahrain', 100), ('Bahamas', 57)]),\n",
       " ('Barbados', [('Barbados', 100), ('Antigua and Barbuda', 60)]),\n",
       " ('Belize', [('Belize', 100), ('Congo Republic', 54)]),\n",
       " ('Brunei Darussalam', [('Brunei Darussalam', 100), ('Malta', 60)]),\n",
       " ('Cabo Verde', [('Cabo Verde', 100), ('Cape Verde', 80)]),\n",
       " ('Cape Verde', [('Cape Verde', 100), ('Cabo Verde', 80)]),\n",
       " ('Comoros', [('Comoros', 100), ('Congo Republic', 51)]),\n",
       " ('Congo Republic', [('Congo Republic', 100), ('Czech Republic', 71)]),\n",
       " ('Czech Republic', [('Czech Republic', 100), ('Czechia', 75)]),\n",
       " ('Czechia', [('Czechia', 100), ('Czech Republic', 75)]),\n",
       " ('Djibouti', [('Djibouti', 100), ('Fiji', 51)]),\n",
       " ('Eswatini', [('Eswatini', 100), ('Palestine', 59)]),\n",
       " ('Fiji', [('Fiji', 100), ('Djibouti', 51)]),\n",
       " ('Grenada', [('Grenada', 100), ('Trinidad and Tobago', 51)]),\n",
       " ('Guyana', [('Guyana', 100), ('Antigua and Barbuda', 60)]),\n",
       " ('Iceland', [('Iceland', 100), ('Solomon Islands', 66)]),\n",
       " ('Israel', [('Israel', 100), ('Israel and West Bank', 90)]),\n",
       " ('Israel and West Bank', [('Israel and West Bank', 100), ('Israel', 90)]),\n",
       " ('Kyrgyz Republic', [('Kyrgyz Republic', 100), ('Congo Republic', 69)]),\n",
       " ('Kyrgyzstan', [('Kyrgyzstan', 100), ('Kyrgyz Republic', 68)]),\n",
       " ('Lesotho', [('Lesotho', 100), ('Timor-Leste', 62)]),\n",
       " ('Luxembourg', [('Luxembourg', 100), ('Timor-Leste', 45)]),\n",
       " ('Macedonia', [('Macedonia', 100), ('North Macedonia', 90)]),\n",
       " ('Madagascar', [('Madagascar', 100), ('Malta', 60)]),\n",
       " ('Maldives', [('Maldives', 100), ('Malta', 68)]),\n",
       " ('Malta', [('Malta', 100), ('Maldives', 68)]),\n",
       " ('Micronesia', [('Micronesia', 100), ('Macedonia', 63)]),\n",
       " ('Montenegro', [('Montenegro', 100), ('Samoa', 51)]),\n",
       " ('North Macedonia', [('North Macedonia', 100), ('Macedonia', 90)]),\n",
       " ('Palestine', [('Palestine', 100), ('Eswatini', 59)]),\n",
       " ('Qatar', [('Qatar', 100), ('Malta', 60)]),\n",
       " ('Samoa', [('Samoa', 100), ('Sao Tome and Principe', 68)]),\n",
       " ('Sao Tome and Principe', [('Sao Tome and Principe', 100), ('Samoa', 68)]),\n",
       " ('Seychelles', [('Seychelles', 100), ('Belize', 49)]),\n",
       " ('Slovak Republic', [('Slovak Republic', 100), ('Slovakia', 77)]),\n",
       " ('Slovakia', [('Slovakia', 100), ('Slovak Republic', 77)]),\n",
       " ('Solomon Islands', [('Solomon Islands', 100), ('Iceland', 66)]),\n",
       " ('South Sudan', [('South Sudan', 100), ('Lesotho', 60)]),\n",
       " ('Suriname', [('Suriname', 100), ('Israel', 57)]),\n",
       " ('Swaziland', [('Swaziland', 100), ('Iceland', 62)]),\n",
       " ('Timor-Leste', [('Timor-Leste', 100), ('Lesotho', 62)]),\n",
       " ('Trinidad and Tobago', [('Trinidad and Tobago', 100), ('Eswatini', 55)]),\n",
       " ('United Arab Emirates', [('United Arab Emirates', 100), ('Israel', 60)])]"
      ]
     },
     "execution_count": 128,
     "metadata": {},
     "output_type": "execute_result"
    }
   ],
   "source": [
    "missfits=list(set.union(*allKeys)-commonKeys)\n",
    "\n",
    "from thefuzz import process as fz\n",
    "\n",
    "[(c,fz.extract(c,missfits,limit=2)) for c in sorted(missfits)]"
   ]
  },
  {
   "cell_type": "markdown",
   "id": "d3cc4543-dbd9-4185-b690-0e996cff2cea",
   "metadata": {},
   "source": [
    "Only the second best is useful. Then:"
   ]
  },
  {
   "cell_type": "code",
   "execution_count": 129,
   "id": "cd965522-60f4-4473-aae7-a8c3827316d4",
   "metadata": {},
   "outputs": [
    {
     "data": {
      "text/plain": [
       "[('Cabo Verde', ('Cape Verde', 80)),\n",
       " ('Cape Verde', ('Cabo Verde', 80)),\n",
       " ('Czech Republic', ('Czechia', 75)),\n",
       " ('Czechia', ('Czech Republic', 75)),\n",
       " ('Israel', ('Israel and West Bank', 90)),\n",
       " ('Israel and West Bank', ('Israel', 90)),\n",
       " ('Macedonia', ('North Macedonia', 90)),\n",
       " ('North Macedonia', ('Macedonia', 90)),\n",
       " ('Slovak Republic', ('Slovakia', 77)),\n",
       " ('Slovakia', ('Slovak Republic', 77))]"
      ]
     },
     "execution_count": 129,
     "metadata": {},
     "output_type": "execute_result"
    }
   ],
   "source": [
    "[(c,fz.extract(c,missfits,limit=2)[1]) for c in sorted(missfits) if (c,fz.extract(c,missfits,limit=2)[1])[1][1]>=75]"
   ]
  },
  {
   "cell_type": "markdown",
   "id": "beda67cc-2192-4b70-82ca-4c45c174276f",
   "metadata": {},
   "source": [
    "We should prepare a dictionary of changes, some will be input manually:"
   ]
  },
  {
   "cell_type": "code",
   "execution_count": 130,
   "id": "64e0e092-7bb3-446a-a445-dbd860b6741a",
   "metadata": {},
   "outputs": [
    {
     "data": {
      "text/plain": [
       "{'Cabo Verde': 'Cape Verde',\n",
       " 'Czech Republic': 'Czechia',\n",
       " 'Israel': 'Israel and West Bank',\n",
       " 'Macedonia': 'North Macedonia',\n",
       " 'Slovak Republic': 'Slovakia',\n",
       " 'Kyrgyzstan': 'Kyrgyz Republic',\n",
       " 'Swaziland': 'Eswatini'}"
      ]
     },
     "execution_count": 130,
     "metadata": {},
     "output_type": "execute_result"
    }
   ],
   "source": [
    "theFits=[(c,fz.extract(c,missfits,limit=2)[1]) for c in sorted(missfits) if (c,fz.extract(c,missfits,limit=2)[1])[1][1]>=75]\n",
    "allChanges={fit[0]:fit[1][0] for fit in theFits[0:-1:2]}\n",
    "\n",
    "allChanges.update({'Kyrgyzstan':'Kyrgyz Republic'})\n",
    "allChanges.update({'Swaziland':'Eswatini'})\n",
    "allChanges"
   ]
  },
  {
   "cell_type": "code",
   "execution_count": 78,
   "id": "f33bfb52-b894-4ccb-a003-4c37ce53834c",
   "metadata": {},
   "outputs": [],
   "source": [
    "for i in range(len(dfs)):\n",
    "    dfs[i].replace({'Country':allChanges}, inplace=True)"
   ]
  },
  {
   "cell_type": "code",
   "execution_count": 79,
   "id": "d5b996b7-dccf-41c7-ae75-1bf2cf714ca9",
   "metadata": {},
   "outputs": [
    {
     "data": {
      "text/plain": [
       "{'Antigua and Barbuda',\n",
       " 'Bahamas',\n",
       " 'Bahrain',\n",
       " 'Barbados',\n",
       " 'Belize',\n",
       " 'Brunei Darussalam',\n",
       " 'Cape Verde',\n",
       " 'Comoros',\n",
       " 'Congo Republic',\n",
       " 'Djibouti',\n",
       " 'Eswatini',\n",
       " 'Fiji',\n",
       " 'Grenada',\n",
       " 'Guyana',\n",
       " 'Iceland',\n",
       " 'Lesotho',\n",
       " 'Luxembourg',\n",
       " 'Madagascar',\n",
       " 'Maldives',\n",
       " 'Malta',\n",
       " 'Micronesia',\n",
       " 'Montenegro',\n",
       " 'Palestine',\n",
       " 'Qatar',\n",
       " 'Samoa',\n",
       " 'Sao Tome and Principe',\n",
       " 'Seychelles',\n",
       " 'Solomon Islands',\n",
       " 'South Sudan',\n",
       " 'Suriname',\n",
       " 'Timor-Leste',\n",
       " 'Trinidad and Tobago',\n",
       " 'United Arab Emirates'}"
      ]
     },
     "execution_count": 79,
     "metadata": {},
     "output_type": "execute_result"
    }
   ],
   "source": [
    "allKeys=[]\n",
    "for df in dfs:\n",
    "    allKeys.append(set(df.Country))# list of sets!\n",
    "\n",
    "commonKeys=set.intersection(*allKeys)\n",
    "set.union(*allKeys)-commonKeys"
   ]
  },
  {
   "cell_type": "markdown",
   "id": "44785886-e354-4b72-8af7-9d4d22fe2e49",
   "metadata": {},
   "source": [
    "Now, you can use the list to concatenate:"
   ]
  },
  {
   "cell_type": "code",
   "execution_count": 80,
   "id": "5ea7b1bb-abcf-43d0-b282-be6aaff93fae",
   "metadata": {},
   "outputs": [
    {
     "data": {
      "text/plain": [
       "Index(['Country', 'Year', 'Rank', 'Total', 'C1: Security Apparatus',\n",
       "       'C2: Factionalized Elites', 'C3: Group Grievance', 'E1: Economy',\n",
       "       'E2: Economic Inequality', 'E3: Human Flight and Brain Drain',\n",
       "       'P1: State Legitimacy', 'P2: Public Services', 'P3: Human Rights',\n",
       "       'S1: Demographic Pressures', 'S2: Refugees and IDPs',\n",
       "       'X1: External Intervention', 'Change from Previous Year'],\n",
       "      dtype='object')"
      ]
     },
     "execution_count": 80,
     "metadata": {},
     "output_type": "execute_result"
    }
   ],
   "source": [
    "allDFs=pd.concat(objs=dfs, # DFs as a list\n",
    "                 axis=0, # one DF on top of the other\n",
    "                 ignore_index=True, #very important\n",
    "                 copy=False)\n",
    "\n",
    "allDFs.columns"
   ]
  },
  {
   "cell_type": "markdown",
   "id": "81faedb9-3b4a-4ad9-b4c8-f0e540e2990a",
   "metadata": {},
   "source": [
    "Some basic cleaning in column names:"
   ]
  },
  {
   "cell_type": "code",
   "execution_count": 81,
   "id": "42bd345e-9da2-4b95-97c4-e779491a820b",
   "metadata": {},
   "outputs": [
    {
     "data": {
      "text/html": [
       "<div>\n",
       "<style scoped>\n",
       "    .dataframe tbody tr th:only-of-type {\n",
       "        vertical-align: middle;\n",
       "    }\n",
       "\n",
       "    .dataframe tbody tr th {\n",
       "        vertical-align: top;\n",
       "    }\n",
       "\n",
       "    .dataframe thead th {\n",
       "        text-align: right;\n",
       "    }\n",
       "</style>\n",
       "<table border=\"1\" class=\"dataframe\">\n",
       "  <thead>\n",
       "    <tr style=\"text-align: right;\">\n",
       "      <th></th>\n",
       "      <th>Country</th>\n",
       "      <th>Year</th>\n",
       "      <th>Rank</th>\n",
       "      <th>Total</th>\n",
       "      <th>C1_Security_Apparatus</th>\n",
       "      <th>C2_Factionalized_Elites</th>\n",
       "      <th>C3_Group_Grievance</th>\n",
       "      <th>E1_Economy</th>\n",
       "      <th>E2_Economic_Inequality</th>\n",
       "      <th>E3_Human_Flight_and_Brain_Drain</th>\n",
       "      <th>P1_State_Legitimacy</th>\n",
       "      <th>P2_Public_Services</th>\n",
       "      <th>P3_Human_Rights</th>\n",
       "      <th>S1_Demographic_Pressures</th>\n",
       "      <th>S2_Refugees_and_IDPs</th>\n",
       "      <th>X1_External_Intervention</th>\n",
       "      <th>Change_from_Previous_Year</th>\n",
       "    </tr>\n",
       "  </thead>\n",
       "  <tbody>\n",
       "    <tr>\n",
       "      <th>0</th>\n",
       "      <td>Yemen</td>\n",
       "      <td>2020-01-01 00:00:00</td>\n",
       "      <td>1st</td>\n",
       "      <td>112.438694</td>\n",
       "      <td>9.700000</td>\n",
       "      <td>10.0</td>\n",
       "      <td>9.69887</td>\n",
       "      <td>9.400000</td>\n",
       "      <td>7.800000</td>\n",
       "      <td>7.000000</td>\n",
       "      <td>9.889823</td>\n",
       "      <td>9.500000</td>\n",
       "      <td>9.950000</td>\n",
       "      <td>9.800000</td>\n",
       "      <td>9.7</td>\n",
       "      <td>10.000000</td>\n",
       "      <td>-1.061306</td>\n",
       "    </tr>\n",
       "    <tr>\n",
       "      <th>1</th>\n",
       "      <td>Somalia</td>\n",
       "      <td>2020-01-01 00:00:00</td>\n",
       "      <td>2nd</td>\n",
       "      <td>110.888959</td>\n",
       "      <td>9.811328</td>\n",
       "      <td>10.0</td>\n",
       "      <td>8.60000</td>\n",
       "      <td>9.100000</td>\n",
       "      <td>9.367151</td>\n",
       "      <td>8.900000</td>\n",
       "      <td>8.888107</td>\n",
       "      <td>9.100000</td>\n",
       "      <td>9.000000</td>\n",
       "      <td>9.981087</td>\n",
       "      <td>9.1</td>\n",
       "      <td>9.041286</td>\n",
       "      <td>-1.311041</td>\n",
       "    </tr>\n",
       "    <tr>\n",
       "      <th>2</th>\n",
       "      <td>South Sudan</td>\n",
       "      <td>2020-01-01 00:00:00</td>\n",
       "      <td>3rd</td>\n",
       "      <td>110.752190</td>\n",
       "      <td>9.400000</td>\n",
       "      <td>9.7</td>\n",
       "      <td>9.10000</td>\n",
       "      <td>9.500000</td>\n",
       "      <td>9.200000</td>\n",
       "      <td>6.800000</td>\n",
       "      <td>9.944415</td>\n",
       "      <td>9.500000</td>\n",
       "      <td>9.000000</td>\n",
       "      <td>9.450357</td>\n",
       "      <td>9.7</td>\n",
       "      <td>9.457419</td>\n",
       "      <td>-1.447810</td>\n",
       "    </tr>\n",
       "    <tr>\n",
       "      <th>3</th>\n",
       "      <td>Syria</td>\n",
       "      <td>2020-01-01 00:00:00</td>\n",
       "      <td>4th</td>\n",
       "      <td>110.749697</td>\n",
       "      <td>9.900000</td>\n",
       "      <td>9.9</td>\n",
       "      <td>10.00000</td>\n",
       "      <td>8.686367</td>\n",
       "      <td>7.200000</td>\n",
       "      <td>8.413343</td>\n",
       "      <td>9.950000</td>\n",
       "      <td>9.100000</td>\n",
       "      <td>10.000000</td>\n",
       "      <td>7.600000</td>\n",
       "      <td>10.0</td>\n",
       "      <td>9.999986</td>\n",
       "      <td>-0.850303</td>\n",
       "    </tr>\n",
       "    <tr>\n",
       "      <th>4</th>\n",
       "      <td>Congo Democratic Republic</td>\n",
       "      <td>2020-01-01 00:00:00</td>\n",
       "      <td>5th</td>\n",
       "      <td>109.394621</td>\n",
       "      <td>8.500000</td>\n",
       "      <td>9.8</td>\n",
       "      <td>9.70000</td>\n",
       "      <td>8.000000</td>\n",
       "      <td>8.619842</td>\n",
       "      <td>6.900000</td>\n",
       "      <td>9.660971</td>\n",
       "      <td>9.464911</td>\n",
       "      <td>9.548897</td>\n",
       "      <td>9.800000</td>\n",
       "      <td>10.0</td>\n",
       "      <td>9.400000</td>\n",
       "      <td>-0.805379</td>\n",
       "    </tr>\n",
       "    <tr>\n",
       "      <th>...</th>\n",
       "      <td>...</td>\n",
       "      <td>...</td>\n",
       "      <td>...</td>\n",
       "      <td>...</td>\n",
       "      <td>...</td>\n",
       "      <td>...</td>\n",
       "      <td>...</td>\n",
       "      <td>...</td>\n",
       "      <td>...</td>\n",
       "      <td>...</td>\n",
       "      <td>...</td>\n",
       "      <td>...</td>\n",
       "      <td>...</td>\n",
       "      <td>...</td>\n",
       "      <td>...</td>\n",
       "      <td>...</td>\n",
       "      <td>...</td>\n",
       "    </tr>\n",
       "    <tr>\n",
       "      <th>3165</th>\n",
       "      <td>Sweden</td>\n",
       "      <td>2017-01-01 00:00:00</td>\n",
       "      <td>174th</td>\n",
       "      <td>22.100000</td>\n",
       "      <td>2.100000</td>\n",
       "      <td>1.8</td>\n",
       "      <td>1.50000</td>\n",
       "      <td>1.800000</td>\n",
       "      <td>1.800000</td>\n",
       "      <td>1.500000</td>\n",
       "      <td>1.000000</td>\n",
       "      <td>1.100000</td>\n",
       "      <td>1.100000</td>\n",
       "      <td>2.000000</td>\n",
       "      <td>5.3</td>\n",
       "      <td>1.100000</td>\n",
       "      <td>NaN</td>\n",
       "    </tr>\n",
       "    <tr>\n",
       "      <th>3166</th>\n",
       "      <td>Denmark</td>\n",
       "      <td>2017-01-01 00:00:00</td>\n",
       "      <td>175th</td>\n",
       "      <td>21.500000</td>\n",
       "      <td>1.700000</td>\n",
       "      <td>1.4</td>\n",
       "      <td>4.40000</td>\n",
       "      <td>2.000000</td>\n",
       "      <td>1.600000</td>\n",
       "      <td>1.900000</td>\n",
       "      <td>0.900000</td>\n",
       "      <td>1.000000</td>\n",
       "      <td>1.500000</td>\n",
       "      <td>2.000000</td>\n",
       "      <td>2.1</td>\n",
       "      <td>1.000000</td>\n",
       "      <td>NaN</td>\n",
       "    </tr>\n",
       "    <tr>\n",
       "      <th>3167</th>\n",
       "      <td>Switzerland</td>\n",
       "      <td>2017-01-01 00:00:00</td>\n",
       "      <td>176th</td>\n",
       "      <td>21.100000</td>\n",
       "      <td>1.100000</td>\n",
       "      <td>1.0</td>\n",
       "      <td>3.60000</td>\n",
       "      <td>2.300000</td>\n",
       "      <td>2.200000</td>\n",
       "      <td>2.100000</td>\n",
       "      <td>1.000000</td>\n",
       "      <td>1.000000</td>\n",
       "      <td>1.800000</td>\n",
       "      <td>1.500000</td>\n",
       "      <td>2.5</td>\n",
       "      <td>1.000000</td>\n",
       "      <td>NaN</td>\n",
       "    </tr>\n",
       "    <tr>\n",
       "      <th>3168</th>\n",
       "      <td>Norway</td>\n",
       "      <td>2017-01-01 00:00:00</td>\n",
       "      <td>177th</td>\n",
       "      <td>20.500000</td>\n",
       "      <td>2.000000</td>\n",
       "      <td>1.1</td>\n",
       "      <td>3.60000</td>\n",
       "      <td>2.200000</td>\n",
       "      <td>1.500000</td>\n",
       "      <td>1.600000</td>\n",
       "      <td>0.800000</td>\n",
       "      <td>1.000000</td>\n",
       "      <td>1.100000</td>\n",
       "      <td>1.500000</td>\n",
       "      <td>2.8</td>\n",
       "      <td>1.300000</td>\n",
       "      <td>NaN</td>\n",
       "    </tr>\n",
       "    <tr>\n",
       "      <th>3169</th>\n",
       "      <td>Finland</td>\n",
       "      <td>2017-01-01 00:00:00</td>\n",
       "      <td>178th</td>\n",
       "      <td>18.700000</td>\n",
       "      <td>1.700000</td>\n",
       "      <td>1.1</td>\n",
       "      <td>1.80000</td>\n",
       "      <td>3.500000</td>\n",
       "      <td>1.000000</td>\n",
       "      <td>2.300000</td>\n",
       "      <td>0.900000</td>\n",
       "      <td>1.000000</td>\n",
       "      <td>1.000000</td>\n",
       "      <td>1.100000</td>\n",
       "      <td>2.3</td>\n",
       "      <td>1.000000</td>\n",
       "      <td>NaN</td>\n",
       "    </tr>\n",
       "  </tbody>\n",
       "</table>\n",
       "<p>3170 rows × 17 columns</p>\n",
       "</div>"
      ],
      "text/plain": [
       "                        Country                 Year   Rank       Total  \\\n",
       "0                         Yemen  2020-01-01 00:00:00    1st  112.438694   \n",
       "1                       Somalia  2020-01-01 00:00:00    2nd  110.888959   \n",
       "2                   South Sudan  2020-01-01 00:00:00    3rd  110.752190   \n",
       "3                         Syria  2020-01-01 00:00:00    4th  110.749697   \n",
       "4     Congo Democratic Republic  2020-01-01 00:00:00    5th  109.394621   \n",
       "...                         ...                  ...    ...         ...   \n",
       "3165                     Sweden  2017-01-01 00:00:00  174th   22.100000   \n",
       "3166                    Denmark  2017-01-01 00:00:00  175th   21.500000   \n",
       "3167                Switzerland  2017-01-01 00:00:00  176th   21.100000   \n",
       "3168                     Norway  2017-01-01 00:00:00  177th   20.500000   \n",
       "3169                    Finland  2017-01-01 00:00:00  178th   18.700000   \n",
       "\n",
       "      C1_Security_Apparatus  C2_Factionalized_Elites  C3_Group_Grievance  \\\n",
       "0                  9.700000                     10.0             9.69887   \n",
       "1                  9.811328                     10.0             8.60000   \n",
       "2                  9.400000                      9.7             9.10000   \n",
       "3                  9.900000                      9.9            10.00000   \n",
       "4                  8.500000                      9.8             9.70000   \n",
       "...                     ...                      ...                 ...   \n",
       "3165               2.100000                      1.8             1.50000   \n",
       "3166               1.700000                      1.4             4.40000   \n",
       "3167               1.100000                      1.0             3.60000   \n",
       "3168               2.000000                      1.1             3.60000   \n",
       "3169               1.700000                      1.1             1.80000   \n",
       "\n",
       "      E1_Economy  E2_Economic_Inequality  E3_Human_Flight_and_Brain_Drain  \\\n",
       "0       9.400000                7.800000                         7.000000   \n",
       "1       9.100000                9.367151                         8.900000   \n",
       "2       9.500000                9.200000                         6.800000   \n",
       "3       8.686367                7.200000                         8.413343   \n",
       "4       8.000000                8.619842                         6.900000   \n",
       "...          ...                     ...                              ...   \n",
       "3165    1.800000                1.800000                         1.500000   \n",
       "3166    2.000000                1.600000                         1.900000   \n",
       "3167    2.300000                2.200000                         2.100000   \n",
       "3168    2.200000                1.500000                         1.600000   \n",
       "3169    3.500000                1.000000                         2.300000   \n",
       "\n",
       "      P1_State_Legitimacy  P2_Public_Services  P3_Human_Rights  \\\n",
       "0                9.889823            9.500000         9.950000   \n",
       "1                8.888107            9.100000         9.000000   \n",
       "2                9.944415            9.500000         9.000000   \n",
       "3                9.950000            9.100000        10.000000   \n",
       "4                9.660971            9.464911         9.548897   \n",
       "...                   ...                 ...              ...   \n",
       "3165             1.000000            1.100000         1.100000   \n",
       "3166             0.900000            1.000000         1.500000   \n",
       "3167             1.000000            1.000000         1.800000   \n",
       "3168             0.800000            1.000000         1.100000   \n",
       "3169             0.900000            1.000000         1.000000   \n",
       "\n",
       "      S1_Demographic_Pressures  S2_Refugees_and_IDPs  \\\n",
       "0                     9.800000                   9.7   \n",
       "1                     9.981087                   9.1   \n",
       "2                     9.450357                   9.7   \n",
       "3                     7.600000                  10.0   \n",
       "4                     9.800000                  10.0   \n",
       "...                        ...                   ...   \n",
       "3165                  2.000000                   5.3   \n",
       "3166                  2.000000                   2.1   \n",
       "3167                  1.500000                   2.5   \n",
       "3168                  1.500000                   2.8   \n",
       "3169                  1.100000                   2.3   \n",
       "\n",
       "      X1_External_Intervention  Change_from_Previous_Year  \n",
       "0                    10.000000                  -1.061306  \n",
       "1                     9.041286                  -1.311041  \n",
       "2                     9.457419                  -1.447810  \n",
       "3                     9.999986                  -0.850303  \n",
       "4                     9.400000                  -0.805379  \n",
       "...                        ...                        ...  \n",
       "3165                  1.100000                        NaN  \n",
       "3166                  1.000000                        NaN  \n",
       "3167                  1.000000                        NaN  \n",
       "3168                  1.300000                        NaN  \n",
       "3169                  1.000000                        NaN  \n",
       "\n",
       "[3170 rows x 17 columns]"
      ]
     },
     "execution_count": 81,
     "metadata": {},
     "output_type": "execute_result"
    }
   ],
   "source": [
    "allDFs.columns=allDFs.columns.str.replace(r':\\s|\\s','_',regex=True)\n",
    "\n",
    "allDFs"
   ]
  },
  {
   "cell_type": "code",
   "execution_count": 82,
   "id": "e74282d5-70d9-47a0-8b4b-a02e28390398",
   "metadata": {},
   "outputs": [
    {
     "name": "stdout",
     "output_type": "stream",
     "text": [
      "<class 'pandas.core.frame.DataFrame'>\n",
      "RangeIndex: 3170 entries, 0 to 3169\n",
      "Data columns (total 17 columns):\n",
      " #   Column                           Non-Null Count  Dtype  \n",
      "---  ------                           --------------  -----  \n",
      " 0   Country                          3170 non-null   object \n",
      " 1   Year                             3170 non-null   object \n",
      " 2   Rank                             3170 non-null   object \n",
      " 3   Total                            3170 non-null   float64\n",
      " 4   C1_Security_Apparatus            3170 non-null   float64\n",
      " 5   C2_Factionalized_Elites          3170 non-null   float64\n",
      " 6   C3_Group_Grievance               3170 non-null   float64\n",
      " 7   E1_Economy                       3170 non-null   float64\n",
      " 8   E2_Economic_Inequality           3170 non-null   float64\n",
      " 9   E3_Human_Flight_and_Brain_Drain  3170 non-null   float64\n",
      " 10  P1_State_Legitimacy              3170 non-null   float64\n",
      " 11  P2_Public_Services               3170 non-null   float64\n",
      " 12  P3_Human_Rights                  3170 non-null   float64\n",
      " 13  S1_Demographic_Pressures         3170 non-null   float64\n",
      " 14  S2_Refugees_and_IDPs             3170 non-null   float64\n",
      " 15  X1_External_Intervention         3170 non-null   float64\n",
      " 16  Change_from_Previous_Year        356 non-null    float64\n",
      "dtypes: float64(14), object(3)\n",
      "memory usage: 421.1+ KB\n"
     ]
    }
   ],
   "source": [
    "allDFs.info()"
   ]
  },
  {
   "cell_type": "markdown",
   "id": "af22b7e8",
   "metadata": {},
   "source": [
    "We should drop the last column:"
   ]
  },
  {
   "cell_type": "code",
   "execution_count": 83,
   "id": "74c0037c",
   "metadata": {},
   "outputs": [],
   "source": [
    "allDFs.drop(columns=['Change_from_Previous_Year'], inplace=True)"
   ]
  },
  {
   "cell_type": "markdown",
   "id": "f422a42b-2326-46a3-b6a3-50e6d5df9105",
   "metadata": {},
   "source": [
    "Pay attention to years:"
   ]
  },
  {
   "cell_type": "code",
   "execution_count": 84,
   "id": "65317a84-e920-4331-9cb9-f826ba6b904d",
   "metadata": {},
   "outputs": [
    {
     "data": {
      "text/plain": [
       "Year\n",
       "2021                   179\n",
       "2022-01-01 00:00:00    179\n",
       "2023                   179\n",
       "2020-01-01 00:00:00    178\n",
       "2019-01-01 00:00:00    178\n",
       "2015-01-01 00:00:00    178\n",
       "2014-01-01 00:00:00    178\n",
       "2018-01-01 00:00:00    178\n",
       "2012-01-01 00:00:00    178\n",
       "2013-01-01 00:00:00    178\n",
       "2016-01-01 00:00:00    178\n",
       "2017-01-01 00:00:00    178\n",
       "2009-01-01 00:00:00    177\n",
       "2011-01-01 00:00:00    177\n",
       "2010-01-01 00:00:00    177\n",
       "2008-01-01 00:00:00    177\n",
       "2007-01-01 00:00:00    177\n",
       "2006-01-01 00:00:00    146\n",
       "Name: count, dtype: int64"
      ]
     },
     "execution_count": 84,
     "metadata": {},
     "output_type": "execute_result"
    }
   ],
   "source": [
    "allDFs.Year.value_counts()"
   ]
  },
  {
   "cell_type": "markdown",
   "id": "659f7c95-380a-4622-9421-483958f24c64",
   "metadata": {},
   "source": [
    "These years need formatting:"
   ]
  },
  {
   "cell_type": "code",
   "execution_count": 85,
   "id": "eff35b8c-0516-488b-bc76-c876c876ede8",
   "metadata": {},
   "outputs": [],
   "source": [
    "allDFs['Year']=[y if type(y)==int else y.year for y in allDFs.Year  ]"
   ]
  },
  {
   "cell_type": "code",
   "execution_count": 86,
   "id": "a64b9c5b-f968-4b20-920b-258e560477c4",
   "metadata": {},
   "outputs": [
    {
     "data": {
      "text/plain": [
       "Year\n",
       "2021    179\n",
       "2022    179\n",
       "2023    179\n",
       "2020    178\n",
       "2019    178\n",
       "2015    178\n",
       "2014    178\n",
       "2018    178\n",
       "2012    178\n",
       "2013    178\n",
       "2016    178\n",
       "2017    178\n",
       "2009    177\n",
       "2011    177\n",
       "2010    177\n",
       "2008    177\n",
       "2007    177\n",
       "2006    146\n",
       "Name: count, dtype: int64"
      ]
     },
     "execution_count": 86,
     "metadata": {},
     "output_type": "execute_result"
    }
   ],
   "source": [
    "allDFs.Year.value_counts()"
   ]
  },
  {
   "cell_type": "code",
   "execution_count": 97,
   "id": "c501e23c-8030-442a-9a24-999303ce91b4",
   "metadata": {},
   "outputs": [
    {
     "data": {
      "text/html": [
       "<div>\n",
       "<style scoped>\n",
       "    .dataframe tbody tr th:only-of-type {\n",
       "        vertical-align: middle;\n",
       "    }\n",
       "\n",
       "    .dataframe tbody tr th {\n",
       "        vertical-align: top;\n",
       "    }\n",
       "\n",
       "    .dataframe thead th {\n",
       "        text-align: right;\n",
       "    }\n",
       "</style>\n",
       "<table border=\"1\" class=\"dataframe\">\n",
       "  <thead>\n",
       "    <tr style=\"text-align: right;\">\n",
       "      <th></th>\n",
       "      <th>Country</th>\n",
       "      <th>Year</th>\n",
       "      <th>Rank</th>\n",
       "      <th>Total</th>\n",
       "      <th>C1_Security_Apparatus</th>\n",
       "      <th>C2_Factionalized_Elites</th>\n",
       "      <th>C3_Group_Grievance</th>\n",
       "      <th>E1_Economy</th>\n",
       "      <th>E2_Economic_Inequality</th>\n",
       "      <th>E3_Human_Flight_and_Brain_Drain</th>\n",
       "      <th>P1_State_Legitimacy</th>\n",
       "      <th>P2_Public_Services</th>\n",
       "      <th>P3_Human_Rights</th>\n",
       "      <th>S1_Demographic_Pressures</th>\n",
       "      <th>S2_Refugees_and_IDPs</th>\n",
       "      <th>X1_External_Intervention</th>\n",
       "    </tr>\n",
       "  </thead>\n",
       "  <tbody>\n",
       "  </tbody>\n",
       "</table>\n",
       "</div>"
      ],
      "text/plain": [
       "Empty DataFrame\n",
       "Columns: [Country, Year, Rank, Total, C1_Security_Apparatus, C2_Factionalized_Elites, C3_Group_Grievance, E1_Economy, E2_Economic_Inequality, E3_Human_Flight_and_Brain_Drain, P1_State_Legitimacy, P2_Public_Services, P3_Human_Rights, S1_Demographic_Pressures, S2_Refugees_and_IDPs, X1_External_Intervention]\n",
       "Index: []"
      ]
     },
     "execution_count": 97,
     "metadata": {},
     "output_type": "execute_result"
    }
   ],
   "source": [
    "allDFs[allDFs.isnull().any(axis=1)]"
   ]
  },
  {
   "cell_type": "markdown",
   "id": "88690398-def5-4534-85cc-18ecd3fd646d",
   "metadata": {},
   "source": [
    "Let's save the DF:"
   ]
  },
  {
   "cell_type": "code",
   "execution_count": null,
   "id": "362e6899-5c4f-4490-91bd-29041384e4a4",
   "metadata": {},
   "outputs": [],
   "source": [
    "allDFs.to_csv('allDFs.csv',index=False)"
   ]
  }
 ],
 "metadata": {
  "kernelspec": {
   "display_name": "Python 3 (ipykernel)",
   "language": "python",
   "name": "python3"
  },
  "language_info": {
   "codemirror_mode": {
    "name": "ipython",
    "version": 3
   },
   "file_extension": ".py",
   "mimetype": "text/x-python",
   "name": "python",
   "nbconvert_exporter": "python",
   "pygments_lexer": "ipython3",
   "version": "3.11.9"
  }
 },
 "nbformat": 4,
 "nbformat_minor": 5
}
